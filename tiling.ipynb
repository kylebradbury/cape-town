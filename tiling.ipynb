{
 "cells": [
  {
   "cell_type": "markdown",
   "metadata": {},
   "source": [
    "## Creating a shapefile of tiles from a list of geotiff files"
   ]
  },
  {
   "cell_type": "code",
   "execution_count": 8,
   "metadata": {},
   "outputs": [],
   "source": [
    "import rasterio\n",
    "import os\n",
    "from shapely.geometry import box\n",
    "import geopandas as gpd\n",
    "\n",
    "# Output must end in `.shp`\n",
    "def create_tile_shapefile(directory_with_tiled_data, output_shapefile_path):\n",
    "    # Get a list of all the file names\n",
    "    files = os.listdir(directory_with_tiled_data)\n",
    "    \n",
    "    # Create variables for storing the bounding boxes and ids\n",
    "    id = 0\n",
    "    boxes = []\n",
    "    ids = []\n",
    "    filenames = []\n",
    "    for file in files:\n",
    "        if file.endswith('.tif'):\n",
    "            filepath = directory_with_tiled_data + file\n",
    "            \n",
    "            # Read the file, gather the coordinate reference system and bounds and add them to a running list\n",
    "            with rasterio.open(filepath) as src:\n",
    "                crs = src.crs\n",
    "                bounds = src.bounds\n",
    "                boxes.append(box(bounds.left, bounds.bottom, bounds.right, bounds.top))\n",
    "                ids.append(id)\n",
    "                filenames.append(file)\n",
    "                id += 1\n",
    "    \n",
    "    # Assume the CRS for all of the files is the same and gather it\n",
    "    crs_wkt = crs.to_wkt()\n",
    "\n",
    "    # Create a geopandas geodataframe with one entry for each image\n",
    "    data = {\n",
    "        'id': ids,\n",
    "        'filename': filenames,\n",
    "        'geometry': boxes\n",
    "    }\n",
    "    df = gpd.GeoDataFrame(data, crs=crs_wkt)\n",
    "    \n",
    "    # Write that to shapefile\n",
    "    path = 'test.geojson'\n",
    "    df.to_file(output_shapefile_path)"
   ]
  },
  {
   "cell_type": "code",
   "execution_count": 9,
   "metadata": {},
   "outputs": [],
   "source": [
    "directory_with_tiled_data = 'tiles/'\n",
    "output_shapefile_path = 'tile_shapefile/mytiles.shp'\n",
    "create_tile_shapefile(directory_with_tiled_data, output_shapefile_path)\n",
    "    "
   ]
  }
 ],
 "metadata": {
  "kernelspec": {
   "display_name": "geobook",
   "language": "python",
   "name": "python3"
  },
  "language_info": {
   "codemirror_mode": {
    "name": "ipython",
    "version": 3
   },
   "file_extension": ".py",
   "mimetype": "text/x-python",
   "name": "python",
   "nbconvert_exporter": "python",
   "pygments_lexer": "ipython3",
   "version": "3.11.9"
  }
 },
 "nbformat": 4,
 "nbformat_minor": 2
}
